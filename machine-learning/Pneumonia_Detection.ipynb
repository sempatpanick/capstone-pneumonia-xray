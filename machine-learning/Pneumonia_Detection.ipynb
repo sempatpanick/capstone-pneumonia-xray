{
  "nbformat": 4,
  "nbformat_minor": 0,
  "metadata": {
    "kernelspec": {
      "display_name": "Python 3",
      "language": "python",
      "name": "python3"
    },
    "language_info": {
      "codemirror_mode": {
        "name": "ipython",
        "version": 3
      },
      "file_extension": ".py",
      "mimetype": "text/x-python",
      "name": "python",
      "nbconvert_exporter": "python",
      "pygments_lexer": "ipython3",
      "version": "3.8.5"
    },
    "colab": {
      "name": "Pneumonia Detection.ipynb",
      "provenance": [],
      "collapsed_sections": [
        "V83X5QZyQFkd"
      ],
      "toc_visible": true
    },
    "accelerator": "TPU"
  },
  "cells": [
    {
      "cell_type": "markdown",
      "metadata": {
        "id": "XN3i6pqVQFkV"
      },
      "source": [
        "# Pneumonia Detection Using XRay Images"
      ]
    },
    {
      "cell_type": "markdown",
      "metadata": {
        "id": "gH3amksOQFkb"
      },
      "source": [
        "Pneumonia is one of the serious disease that can infects one or both lungs because of\n",
        "bacterium, virus, and some fungi. Each year, pneumonia affects approximately 450 million\n",
        "people worldwide. Due to lack of experts/doctors, this disease is difficult to detect. Because of\n",
        "that, our team wants to create a project that can help the experts and the doctors to get the\n",
        "result very quickly using Deep Learning, from uploading the XRay to the computer then the\n",
        "result will come out. The result will help the experts/doctors to determine which the best actions\n",
        "will do to the patient."
      ]
    },
    {
      "cell_type": "markdown",
      "metadata": {
        "id": "81OFka0MqYSA"
      },
      "source": [
        "# Mount Dataset to GDrive"
      ]
    },
    {
      "cell_type": "code",
      "metadata": {
        "colab": {
          "base_uri": "https://localhost:8080/"
        },
        "id": "xr9BhGSXqdgJ",
        "outputId": "10ab9587-ac6f-48c3-c893-1c39af66122a"
      },
      "source": [
        "from google.colab import drive\n",
        "drive.mount('/content/drive')"
      ],
      "execution_count": 1,
      "outputs": [
        {
          "output_type": "stream",
          "text": [
            "Mounted at /content/drive\n"
          ],
          "name": "stdout"
        }
      ]
    },
    {
      "cell_type": "markdown",
      "metadata": {
        "id": "WYMlcNQyQFkc"
      },
      "source": [
        "# Setting Up "
      ]
    },
    {
      "cell_type": "code",
      "metadata": {
        "id": "HkpjmZf5QFkc"
      },
      "source": [
        "import os, os.path\n",
        "import fnmatch\n",
        "import pathlib\n",
        "\n",
        "import numpy as np\n",
        "import pandas as pd\n",
        "import tensorflow as tf\n",
        "import matplotlib.pyplot as plt\n",
        "from google.colab import files\n",
        "from tensorflow.keras.preprocessing.image import ImageDataGenerator"
      ],
      "execution_count": 21,
      "outputs": []
    },
    {
      "cell_type": "markdown",
      "metadata": {
        "id": "dC2nHYuLQFke"
      },
      "source": [
        "# Load & Customize the Dataset Using ImageDataGenerator"
      ]
    },
    {
      "cell_type": "code",
      "metadata": {
        "id": "Tz1e8YykQFke"
      },
      "source": [
        "train_dir = '/content/drive/MyDrive/Capstone Project/chest_xray/chest_xray/train'\n",
        "val_dir = '/content/drive/MyDrive/Capstone Project/chest_xray/chest_xray/val/'\n",
        "test_dir = '/content/drive/MyDrive/Capstone Project/chest_xray/chest_xray/test'\n",
        "\n",
        "classes = ['PNEUMONIA','NORMAL']"
      ],
      "execution_count": 23,
      "outputs": []
    },
    {
      "cell_type": "markdown",
      "metadata": {
        "id": "t_ms-NPyQFkf"
      },
      "source": [
        "Counting on how much is the normal chest XRays and the pneumonia chest XRays we have in the Dataset that we have been load."
      ]
    },
    {
      "cell_type": "code",
      "metadata": {
        "colab": {
          "base_uri": "https://localhost:8080/"
        },
        "id": "Ep3ZxVocQFkf",
        "outputId": "ad273ad6-ecb9-40a1-82c7-9b6c1888b1e5"
      },
      "source": [
        "path, dirs, normal_lungs = next(os.walk('/content/drive/MyDrive/Capstone Project/chest_xray/chest_xray/train/NORMAL'))\n",
        "normal_lungs_count = len(normal_lungs)\n",
        "print('Normal Chest XRays in the training dataset: ' + str(normal_lungs_count) + ' images')\n",
        "\n",
        "path, dirs, damaged_lungs = next(os.walk('/content/drive/MyDrive/Capstone Project/chest_xray/chest_xray/train/PNEUMONIA'))\n",
        "damaged_lungs_count = len(damaged_lungs)\n",
        "print('Pneumonia Chest XRays in the training dataset: ' + str(damaged_lungs_count) + ' images')"
      ],
      "execution_count": 24,
      "outputs": [
        {
          "output_type": "stream",
          "text": [
            "Normal Chest XRays in the training dataset: 1342 images\n",
            "Pneumonia Chest XRays in the training dataset: 3876 images\n"
          ],
          "name": "stdout"
        }
      ]
    },
    {
      "cell_type": "code",
      "metadata": {
        "id": "yH8kuC8Mm8zS"
      },
      "source": [
        "batch_size = 256\n",
        "img_size = 224"
      ],
      "execution_count": 25,
      "outputs": []
    },
    {
      "cell_type": "code",
      "metadata": {
        "id": "VTqkj0r5QFkf"
      },
      "source": [
        "train_generator=ImageDataGenerator(rescale=1./255,featurewise_center=False,  # set input mean to 0 over the dataset\n",
        "        samplewise_center=False,  # set each sample mean to 0\n",
        "        featurewise_std_normalization=False,  # divide inputs by std of the dataset\n",
        "        samplewise_std_normalization=False,  # divide each input by its std\n",
        "        zca_whitening=False,  # apply ZCA whitening\n",
        "        rotation_range = 30,  # randomly rotate images in the range (degrees, 0 to 180)\n",
        "        zoom_range = 0.2, # Randomly zoom image \n",
        "        width_shift_range=0.1,  # randomly shift images horizontally (fraction of total width)\n",
        "        height_shift_range=0.1,  # randomly shift images vertically (fraction of total height)\n",
        "        horizontal_flip = False,  # randomly flip images \n",
        "        vertical_flip=False)"
      ],
      "execution_count": 26,
      "outputs": []
    },
    {
      "cell_type": "code",
      "metadata": {
        "id": "0tsD9UsTQFkf"
      },
      "source": [
        "val_generator=ImageDataGenerator(rescale=1/255)"
      ],
      "execution_count": 27,
      "outputs": []
    },
    {
      "cell_type": "code",
      "metadata": {
        "id": "cY-dguISQFkg"
      },
      "source": [
        "test_generator=ImageDataGenerator(rescale=1/255)"
      ],
      "execution_count": 28,
      "outputs": []
    },
    {
      "cell_type": "markdown",
      "metadata": {
        "id": "Z9nFyJixQFkg"
      },
      "source": [
        "# Creating the Data Flow"
      ]
    },
    {
      "cell_type": "code",
      "metadata": {
        "colab": {
          "base_uri": "https://localhost:8080/"
        },
        "id": "jg1CV48vQFkg",
        "outputId": "1a9902ab-85bc-468f-e2e7-2b5fb178ea1c"
      },
      "source": [
        "training_generator=train_generator.flow_from_directory(train_dir,\n",
        "                                                    target_size=(img_size,img_size),\n",
        "                                                    batch_size=batch_size,\n",
        "                                                    class_mode='binary',\n",
        "                                                    color_mode='grayscale')"
      ],
      "execution_count": 29,
      "outputs": [
        {
          "output_type": "stream",
          "text": [
            "Found 5216 images belonging to 2 classes.\n"
          ],
          "name": "stdout"
        }
      ]
    },
    {
      "cell_type": "code",
      "metadata": {
        "colab": {
          "base_uri": "https://localhost:8080/"
        },
        "id": "IqTqroQdQFkg",
        "outputId": "0dd406a0-f92e-49c4-d175-383ecc4d8934"
      },
      "source": [
        "val_generator=val_generator.flow_from_directory(val_dir,\n",
        "                                                  target_size=(img_size,img_size),\n",
        "                                                  batch_size=batch_size,\n",
        "                                                  class_mode='binary',\n",
        "                                                  color_mode='grayscale') "
      ],
      "execution_count": 30,
      "outputs": [
        {
          "output_type": "stream",
          "text": [
            "Found 16 images belonging to 2 classes.\n"
          ],
          "name": "stdout"
        }
      ]
    },
    {
      "cell_type": "code",
      "metadata": {
        "colab": {
          "base_uri": "https://localhost:8080/"
        },
        "id": "sBSbZrqUQFkh",
        "outputId": "6eef6215-a554-4ff2-b062-d54530788bd1"
      },
      "source": [
        "test_generator=test_generator.flow_from_directory(test_dir,\n",
        "                                                  target_size=(img_size,img_size),\n",
        "                                                  batch_size=batch_size,\n",
        "                                                  class_mode='binary',\n",
        "                                                  color_mode='grayscale') "
      ],
      "execution_count": 31,
      "outputs": [
        {
          "output_type": "stream",
          "text": [
            "Found 624 images belonging to 2 classes.\n"
          ],
          "name": "stdout"
        }
      ]
    },
    {
      "cell_type": "markdown",
      "metadata": {
        "id": "lIN6Fuq9QFkh"
      },
      "source": [
        "# Convolutional Neural Network"
      ]
    },
    {
      "cell_type": "code",
      "metadata": {
        "id": "HHW898FYQFkh"
      },
      "source": [
        "model=tf.keras.Sequential([\n",
        "    tf.keras.layers.Conv2D(32,(3,3),input_shape=(img_size,img_size,1),activation='relu'),\n",
        "    tf.keras.layers.MaxPooling2D(2,2),\n",
        "\n",
        "    tf.keras.layers.Conv2D(32,(3,3),activation='relu'),\n",
        "    tf.keras.layers.MaxPooling2D(2,2),\n",
        "\n",
        "    tf.keras.layers.Conv2D(32,(3,3),activation='relu'),\n",
        "    tf.keras.layers.MaxPooling2D(2,2),\n",
        "\n",
        "\n",
        "    tf.keras.layers.Conv2D(64,(3,3),activation='relu'),\n",
        "    tf.keras.layers.MaxPooling2D(2,2),\n",
        "  \n",
        "    tf.keras.layers.Conv2D(64,(3,3),activation='relu'), \n",
        "    tf.keras.layers.MaxPooling2D(2,2),\n",
        "\n",
        "    tf.keras.layers.Flatten(),\n",
        "    tf.keras.layers.Dense(128,activation='relu'),\n",
        "    tf.keras.layers.Dense(64,activation='relu'), \n",
        "    tf.keras.layers.Dense(1,activation='sigmoid')\n",
        "    \n",
        "])"
      ],
      "execution_count": 32,
      "outputs": []
    },
    {
      "cell_type": "markdown",
      "metadata": {
        "id": "rFlrctoXQFkh"
      },
      "source": [
        "# Implemented the Adam Optimizer"
      ]
    },
    {
      "cell_type": "code",
      "metadata": {
        "id": "-evo1dbhQFki"
      },
      "source": [
        "model.compile(optimizer=tf.keras.optimizers.Adam(learning_rate=0.001),loss='binary_crossentropy',metrics=['acc'])"
      ],
      "execution_count": 33,
      "outputs": []
    },
    {
      "cell_type": "code",
      "metadata": {
        "colab": {
          "base_uri": "https://localhost:8080/"
        },
        "id": "3r3bAYIoT1Lv",
        "outputId": "f3116937-d33a-446d-baac-7f220e54e9c9"
      },
      "source": [
        "train_size = len(training_generator.filenames)\n",
        "test_size = len(test_generator.filenames)\n",
        "train_size, test_size"
      ],
      "execution_count": 34,
      "outputs": [
        {
          "output_type": "execute_result",
          "data": {
            "text/plain": [
              "(5216, 624)"
            ]
          },
          "metadata": {
            "tags": []
          },
          "execution_count": 34
        }
      ]
    },
    {
      "cell_type": "code",
      "metadata": {
        "colab": {
          "base_uri": "https://localhost:8080/"
        },
        "id": "KTgbxYrpQFki",
        "outputId": "b283e7c7-c213-44fe-b50e-bff5650f0cc4"
      },
      "source": [
        "model.summary()"
      ],
      "execution_count": 35,
      "outputs": [
        {
          "output_type": "stream",
          "text": [
            "Model: \"sequential_1\"\n",
            "_________________________________________________________________\n",
            "Layer (type)                 Output Shape              Param #   \n",
            "=================================================================\n",
            "conv2d_5 (Conv2D)            (None, 222, 222, 32)      320       \n",
            "_________________________________________________________________\n",
            "max_pooling2d_5 (MaxPooling2 (None, 111, 111, 32)      0         \n",
            "_________________________________________________________________\n",
            "conv2d_6 (Conv2D)            (None, 109, 109, 32)      9248      \n",
            "_________________________________________________________________\n",
            "max_pooling2d_6 (MaxPooling2 (None, 54, 54, 32)        0         \n",
            "_________________________________________________________________\n",
            "conv2d_7 (Conv2D)            (None, 52, 52, 32)        9248      \n",
            "_________________________________________________________________\n",
            "max_pooling2d_7 (MaxPooling2 (None, 26, 26, 32)        0         \n",
            "_________________________________________________________________\n",
            "conv2d_8 (Conv2D)            (None, 24, 24, 64)        18496     \n",
            "_________________________________________________________________\n",
            "max_pooling2d_8 (MaxPooling2 (None, 12, 12, 64)        0         \n",
            "_________________________________________________________________\n",
            "conv2d_9 (Conv2D)            (None, 10, 10, 64)        36928     \n",
            "_________________________________________________________________\n",
            "max_pooling2d_9 (MaxPooling2 (None, 5, 5, 64)          0         \n",
            "_________________________________________________________________\n",
            "flatten_1 (Flatten)          (None, 1600)              0         \n",
            "_________________________________________________________________\n",
            "dense_3 (Dense)              (None, 128)               204928    \n",
            "_________________________________________________________________\n",
            "dense_4 (Dense)              (None, 64)                8256      \n",
            "_________________________________________________________________\n",
            "dense_5 (Dense)              (None, 1)                 65        \n",
            "=================================================================\n",
            "Total params: 287,489\n",
            "Trainable params: 287,489\n",
            "Non-trainable params: 0\n",
            "_________________________________________________________________\n"
          ],
          "name": "stdout"
        }
      ]
    },
    {
      "cell_type": "markdown",
      "metadata": {
        "id": "Q9ce_Bl8QFki"
      },
      "source": [
        "# Training the Dataset"
      ]
    },
    {
      "cell_type": "code",
      "metadata": {
        "colab": {
          "base_uri": "https://localhost:8080/"
        },
        "id": "oVc6Q8p-QFki",
        "outputId": "f4d6db34-a87b-4263-a873-1e27af7d219d"
      },
      "source": [
        "history = model.fit_generator(generator = training_generator,\n",
        "            validation_data = test_generator,\n",
        "            steps_per_epoch = train_size/batch_size, \n",
        "            validation_steps = test_size/batch_size,\n",
        "            epochs = 15,\n",
        "            verbose = 1)"
      ],
      "execution_count": 36,
      "outputs": [
        {
          "output_type": "stream",
          "text": [
            "/usr/local/lib/python3.7/dist-packages/tensorflow/python/keras/engine/training.py:1940: UserWarning: `Model.fit_generator` is deprecated and will be removed in a future version. Please use `Model.fit`, which supports generators.\n",
            "  warnings.warn('`Model.fit_generator` is deprecated and '\n"
          ],
          "name": "stderr"
        },
        {
          "output_type": "stream",
          "text": [
            "Epoch 1/15\n",
            "20/20 [==============================] - 369s 18s/step - loss: 0.6014 - acc: 0.7176 - val_loss: 0.6943 - val_acc: 0.6250\n",
            "Epoch 2/15\n",
            "20/20 [==============================] - 364s 18s/step - loss: 0.5794 - acc: 0.7429 - val_loss: 0.6947 - val_acc: 0.6250\n",
            "Epoch 3/15\n",
            "20/20 [==============================] - 357s 17s/step - loss: 0.4320 - acc: 0.7860 - val_loss: 0.7900 - val_acc: 0.6394\n",
            "Epoch 4/15\n",
            "20/20 [==============================] - 373s 18s/step - loss: 0.4151 - acc: 0.8186 - val_loss: 0.3854 - val_acc: 0.8349\n",
            "Epoch 5/15\n",
            "20/20 [==============================] - 356s 17s/step - loss: 0.3305 - acc: 0.8602 - val_loss: 0.3928 - val_acc: 0.8141\n",
            "Epoch 6/15\n",
            "20/20 [==============================] - 366s 18s/step - loss: 0.2763 - acc: 0.8854 - val_loss: 0.4464 - val_acc: 0.7965\n",
            "Epoch 7/15\n",
            "20/20 [==============================] - 366s 18s/step - loss: 0.3191 - acc: 0.8556 - val_loss: 0.3426 - val_acc: 0.8606\n",
            "Epoch 8/15\n",
            "20/20 [==============================] - 365s 18s/step - loss: 0.2782 - acc: 0.8836 - val_loss: 0.3089 - val_acc: 0.8670\n",
            "Epoch 9/15\n",
            "20/20 [==============================] - 366s 18s/step - loss: 0.2504 - acc: 0.9003 - val_loss: 0.3181 - val_acc: 0.8622\n",
            "Epoch 10/15\n",
            "20/20 [==============================] - 360s 18s/step - loss: 0.2211 - acc: 0.9118 - val_loss: 0.3456 - val_acc: 0.8478\n",
            "Epoch 11/15\n",
            "20/20 [==============================] - 365s 18s/step - loss: 0.2062 - acc: 0.9176 - val_loss: 0.2638 - val_acc: 0.8910\n",
            "Epoch 12/15\n",
            "20/20 [==============================] - 355s 17s/step - loss: 0.2197 - acc: 0.9086 - val_loss: 0.2644 - val_acc: 0.8958\n",
            "Epoch 13/15\n",
            "20/20 [==============================] - 367s 17s/step - loss: 0.2007 - acc: 0.9176 - val_loss: 0.2547 - val_acc: 0.9038\n",
            "Epoch 14/15\n",
            "20/20 [==============================] - 374s 18s/step - loss: 0.1869 - acc: 0.9239 - val_loss: 0.2674 - val_acc: 0.9071\n",
            "Epoch 15/15\n",
            "20/20 [==============================] - 356s 17s/step - loss: 0.1859 - acc: 0.9256 - val_loss: 0.2451 - val_acc: 0.9087\n"
          ],
          "name": "stdout"
        }
      ]
    },
    {
      "cell_type": "code",
      "metadata": {
        "colab": {
          "base_uri": "https://localhost:8080/",
          "height": 579
        },
        "id": "Y9Cg8vYhnEvy",
        "outputId": "8e83e424-2f56-49c0-ddde-89a1ff13d5e0"
      },
      "source": [
        "acc = history.history['acc']\n",
        "val_acc = history.history['val_acc']\n",
        "loss = history.history['loss']\n",
        "val_loss = history.history['val_loss']\n",
        "\n",
        "epochs = range(len(acc))\n",
        "\n",
        "plt.plot(epochs, acc, 'r', label='Training accuracy')\n",
        "plt.plot(epochs, val_acc, 'b', label='Validation accuracy')\n",
        "plt.title('Training and validation accuracy')\n",
        "plt.legend(loc=0)\n",
        "plt.figure()\n",
        "\n",
        "plt.plot(epochs, loss, 'r', label='Training Loss')\n",
        "plt.plot(epochs, val_loss, 'b', label='Validation Loss')\n",
        "plt.title('Training and validation Loss')\n",
        "plt.legend(loc=0)\n",
        "plt.figure()"
      ],
      "execution_count": 37,
      "outputs": [
        {
          "output_type": "execute_result",
          "data": {
            "text/plain": [
              "<Figure size 432x288 with 0 Axes>"
            ]
          },
          "metadata": {
            "tags": []
          },
          "execution_count": 37
        },
        {
          "output_type": "display_data",
          "data": {
            "image/png": "[encoded data removed]",
            "text/plain": [
              "<Figure size 432x288 with 1 Axes>"
            ]
          },
          "metadata": {
            "tags": [],
            "needs_background": "light"
          }
        },
        {
          "output_type": "display_data",
          "data": {
            "image/png": "[encoded data removed]",
            "text/plain": [
              "<Figure size 432x288 with 1 Axes>"
            ]
          },
          "metadata": {
            "tags": [],
            "needs_background": "light"
          }
        },
        {
          "output_type": "display_data",
          "data": {
            "text/plain": [
              "<Figure size 432x288 with 0 Axes>"
            ]
          },
          "metadata": {
            "tags": []
          }
        }
      ]
    },
    {
      "cell_type": "markdown",
      "metadata": {
        "id": "7uABiPiDH6gq"
      },
      "source": [
        "#Accuracy & Loss Percentage"
      ]
    },
    {
      "cell_type": "code",
      "metadata": {
        "colab": {
          "base_uri": "https://localhost:8080/"
        },
        "id": "HJqvug1mTsdy",
        "outputId": "6efd52a3-a1c3-40e8-a680-d27722feeb5e"
      },
      "source": [
        "print(\"Loss of the model is - \" , model.evaluate(test_generator)[0]*100 , \"%\")\n",
        "print(\"Accuracy of the model is - \" , model.evaluate(test_generator)[1]*100 , \"%\")"
      ],
      "execution_count": 38,
      "outputs": [
        {
          "output_type": "stream",
          "text": [
            "3/3 [==============================] - 16s 3s/step - loss: 0.2451 - acc: 0.9087\n",
            "Loss of the model is -  24.50840473175049 %\n",
            "3/3 [==============================] - 14s 3s/step - loss: 0.2451 - acc: 0.9087\n",
            "Accuracy of the model is -  90.86538553237915 %\n"
          ],
          "name": "stdout"
        }
      ]
    },
    {
      "cell_type": "markdown",
      "metadata": {
        "id": "B5OvTcqvH_U_"
      },
      "source": [
        "#Save The Model"
      ]
    },
    {
      "cell_type": "code",
      "metadata": {
        "colab": {
          "base_uri": "https://localhost:8080/"
        },
        "id": "UIG6mvRZk5xt",
        "outputId": "77a94b9f-0519-4b93-a1de-f790f251668c"
      },
      "source": [
        "model.save(\"/content/drive/MyDrive/Capstone Project/Model Saved/model-gcp3.h5\")\n",
        "print(\"Saved model to gdrive\")"
      ],
      "execution_count": 39,
      "outputs": [
        {
          "output_type": "stream",
          "text": [
            "Saved model to gdrive\n"
          ],
          "name": "stdout"
        }
      ]
    },
    {
      "cell_type": "code",
      "metadata": {
        "colab": {
          "base_uri": "https://localhost:8080/"
        },
        "id": "fQMp72AFng8p",
        "outputId": "b3fbe8cf-2840-4e28-a048-9e159d6a92ff"
      },
      "source": [
        "model.save_weights(\"/content/drive/MyDrive/Capstone Project/Model Saved/model.h5\")\n",
        "print(\"Saved model to gdrive\")"
      ],
      "execution_count": 40,
      "outputs": [
        {
          "output_type": "stream",
          "text": [
            "Saved model to gdrive\n"
          ],
          "name": "stdout"
        }
      ]
    },
    {
      "cell_type": "markdown",
      "metadata": {
        "id": "HXf_V0vKIDhS"
      },
      "source": [
        "#Convert The Model To TFLite"
      ]
    },
    {
      "cell_type": "code",
      "metadata": {
        "colab": {
          "base_uri": "https://localhost:8080/"
        },
        "id": "mi78LA0Ln1MA",
        "outputId": "afb16e5a-38bd-4224-c667-1abba67d12db"
      },
      "source": [
        "#converting\n",
        "saved_model_dir = '/content/drive/MyDrive/Capstone Project/Model Saved/'\n",
        "converter = tf.lite.TFLiteConverter.from_saved_model(saved_model_dir)\n",
        "tflite_model = converter.convert()"
      ],
      "execution_count": null,
      "outputs": [
        {
          "output_type": "stream",
          "text": [
            "INFO:tensorflow:Assets written to: /content/drive/MyDrive/Capstone Project/Model Saved/assets\n"
          ],
          "name": "stdout"
        }
      ]
    },
    {
      "cell_type": "code",
      "metadata": {
        "colab": {
          "base_uri": "https://localhost:8080/"
        },
        "id": "qbw-ISgin3BI",
        "outputId": "3ec3f9af-e29f-443d-cc7d-682fe3e8a6e3"
      },
      "source": [
        "#saved the tflite model to gdrive\n",
        "tflite_model_file = pathlib.Path(\"/content/drive/MyDrive/Capstone Project/Model Saved/model.tflite\")\n",
        "tflite_model_file.write_bytes(tflite_model)"
      ],
      "execution_count": null,
      "outputs": [
        {
          "output_type": "execute_result",
          "data": {
            "text/plain": [
              "1154388"
            ]
          },
          "metadata": {
            "tags": []
          },
          "execution_count": 26
        }
      ]
    },
    {
      "cell_type": "code",
      "metadata": {
        "colab": {
          "base_uri": "https://localhost:8080/",
          "height": 17
        },
        "id": "aT7CrIZcn4WV",
        "outputId": "6182b6d7-27cf-4ac6-bd8d-c4a52d2ee3bf"
      },
      "source": [
        "files.download(tflite_model_file)"
      ],
      "execution_count": null,
      "outputs": [
        {
          "output_type": "display_data",
          "data": {
            "application/javascript": [
              "\n",
              "    async function download(id, filename, size) {\n",
              "      if (!google.colab.kernel.accessAllowed) {\n",
              "        return;\n",
              "      }\n",
              "      const div = document.createElement('div');\n",
              "      const label = document.createElement('label');\n",
              "      label.textContent = `Downloading \"${filename}\": `;\n",
              "      div.appendChild(label);\n",
              "      const progress = document.createElement('progress');\n",
              "      progress.max = size;\n",
              "      div.appendChild(progress);\n",
              "      document.body.appendChild(div);\n",
              "\n",
              "      const buffers = [];\n",
              "      let downloaded = 0;\n",
              "\n",
              "      const channel = await google.colab.kernel.comms.open(id);\n",
              "      // Send a message to notify the kernel that we're ready.\n",
              "      channel.send({})\n",
              "\n",
              "      for await (const message of channel.messages) {\n",
              "        // Send a message to notify the kernel that we're ready.\n",
              "        channel.send({})\n",
              "        if (message.buffers) {\n",
              "          for (const buffer of message.buffers) {\n",
              "            buffers.push(buffer);\n",
              "            downloaded += buffer.byteLength;\n",
              "            progress.value = downloaded;\n",
              "          }\n",
              "        }\n",
              "      }\n",
              "      const blob = new Blob(buffers, {type: 'application/binary'});\n",
              "      const a = document.createElement('a');\n",
              "      a.href = window.URL.createObjectURL(blob);\n",
              "      a.download = filename;\n",
              "      div.appendChild(a);\n",
              "      a.click();\n",
              "      div.remove();\n",
              "    }\n",
              "  "
            ],
            "text/plain": [
              "<IPython.core.display.Javascript object>"
            ]
          },
          "metadata": {
            "tags": []
          }
        },
        {
          "output_type": "display_data",
          "data": {
            "application/javascript": [
              "download(\"download_daec93dd-706b-4b82-96d6-09ec3b361ec4\", \"model.tflite\", 1154388)"
            ],
            "text/plain": [
              "<IPython.core.display.Javascript object>"
            ]
          },
          "metadata": {
            "tags": []
          }
        }
      ]
    }
  ]
}